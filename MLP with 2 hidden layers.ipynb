{
 "cells": [
  {
   "cell_type": "markdown",
   "metadata": {},
   "source": [
    "Implementation of mutli-layer perceptron with 2 hidden layers for multiple linear regression using python "
   ]
  },
  {
   "cell_type": "code",
   "execution_count": 143,
   "metadata": {},
   "outputs": [],
   "source": [
    "import numpy as np\n",
    "import pandas as pd\n",
    "import matplotlib.pyplot as plt\n",
    "import seaborn as sns"
   ]
  },
  {
   "cell_type": "markdown",
   "metadata": {},
   "source": [
    "Importing dataset"
   ]
  },
  {
   "cell_type": "code",
   "execution_count": 144,
   "metadata": {},
   "outputs": [
    {
     "name": "stdout",
     "output_type": "stream",
     "text": [
      "   R&D Spend  Administration  Marketing Spend       State     Profit\n",
      "0  165349.20       136897.80        471784.10    New York  192261.83\n",
      "1  162597.70       151377.59        443898.53  California  191792.06\n",
      "2  153441.51       101145.55        407934.54     Florida  191050.39\n",
      "3  144372.41       118671.85        383199.62    New York  182901.99\n",
      "4  142107.34        91391.77        366168.42     Florida  166187.94\n",
      "(50, 5)\n"
     ]
    }
   ],
   "source": [
    "dataset = pd.read_csv('50_Startups.csv')\n",
    "print(dataset.head())\n",
    "print(dataset.shape)"
   ]
  },
  {
   "cell_type": "code",
   "execution_count": 145,
   "metadata": {},
   "outputs": [
    {
     "name": "stdout",
     "output_type": "stream",
     "text": [
      "(50, 3)\n",
      "input : [[165349.2  136897.8  471784.1 ]\n",
      " [162597.7  151377.59 443898.53]\n",
      " [153441.51 101145.55 407934.54]\n",
      " [144372.41 118671.85 383199.62]\n",
      " [142107.34  91391.77 366168.42]]\n",
      "(50,)\n",
      "Target : [192261.83 191792.06 191050.39 182901.99 166187.94]\n"
     ]
    }
   ],
   "source": [
    "X = np.array(dataset.iloc[:,0:3])\n",
    "y = np.array(dataset.iloc[:, 4])\n",
    "print(X.shape)\n",
    "print('input :', X[:5])\n",
    "print(y.shape)\n",
    "print('Target :', y[:5])"
   ]
  },
  {
   "cell_type": "markdown",
   "metadata": {},
   "source": [
    "Dataset Features Normalizations"
   ]
  },
  {
   "cell_type": "code",
   "execution_count": 146,
   "metadata": {},
   "outputs": [
    {
     "name": "stdout",
     "output_type": "stream",
     "text": [
      "[[ 0.31484664  0.01610715  3.53241077]\n",
      " [ 0.28595591  0.16814484  3.2396125 ]\n",
      " [ 0.18981598 -0.3592912   2.86199087]\n",
      " [ 0.0945905  -0.17526518  2.6022744 ]\n",
      " [ 0.07080728 -0.46170582  2.42344693]]\n",
      "[ 2.01120333  1.99942997  1.98084225  1.77662724  1.35774012  1.12724963\n",
      "  1.10548055  1.09620987  1.00746967  0.94602247  0.85484675  0.80816756\n",
      "  0.74115484  0.55874952  0.51602637  0.44871967  0.3754357   0.33477114\n",
      "  0.307116    0.26977265  0.16193522 -0.01753384 -0.04161264 -0.08216943\n",
      " -0.08672946 -0.11549309 -0.15736664 -0.17554233 -0.21879755 -0.27588222\n",
      " -0.3026246  -0.36412744 -0.36552389 -0.38178711 -0.38344421 -0.38929092\n",
      " -0.53393161 -0.5529549  -0.77149734 -0.77709368 -0.84641135 -0.85746568\n",
      " -1.01536466 -1.05896021 -1.17320899 -1.18008224 -1.56692212 -1.74062718\n",
      " -1.91321197 -2.43931323]\n"
     ]
    }
   ],
   "source": [
    "#Data set normalization without using SCIKIT library\n",
    "X = (X - X.mean()) / X.std()\n",
    "print(X[:5])\n",
    "\n",
    "y = (y - y.mean()) / y.std()\n",
    "print(y)"
   ]
  },
  {
   "cell_type": "markdown",
   "metadata": {},
   "source": [
    "Splitting the dataset"
   ]
  },
  {
   "cell_type": "code",
   "execution_count": 147,
   "metadata": {},
   "outputs": [
    {
     "name": "stdout",
     "output_type": "stream",
     "text": [
      "(40, 3)\n",
      "(10, 3)\n"
     ]
    }
   ],
   "source": [
    "from sklearn.model_selection import train_test_split\n",
    "X_train, X_test, y_train, y_test = train_test_split(X, y, test_size = 0.2)\n",
    "print(X_train.shape)\n",
    "print(X_test.shape)"
   ]
  },
  {
   "cell_type": "markdown",
   "metadata": {},
   "source": [
    "Implementation of multilayer perceptron model with 2 hidden layers from scratch"
   ]
  },
  {
   "cell_type": "code",
   "execution_count": 148,
   "metadata": {},
   "outputs": [],
   "source": [
    "def initialize_params(x):\n",
    "    '''\n",
    "        initializes the parameters w1, w2, b1, and b2 with random values\n",
    "        w1 : should be a 5 x 3 array since the hidden layer has 5 neurons and there are 3 input features\n",
    "        b1 : should be a 1 x 5 array since hidden layer has 5 neurons and each should have one bias\n",
    "\n",
    "        w2 : should be a 5 X 1 arrays since the output layer has one neuron and hidden layer has 5 \n",
    "        b2 : should 1 X 1 because o/p layer contains only one neuron \n",
    "    '''\n",
    "    w1 = np.random.randn(5, x.shape[1]) \n",
    "    w2 = np.random.randn(5,5)\n",
    "    w3 = np.random.randn(1, 5)\n",
    "    \n",
    "    b1 = np.random.randn(5, 1)\n",
    "    b2 = np.random.randn(5, 1)\n",
    "    b3 = np.random.randn(1, 1)\n",
    "    return w1,w2,w3,b1,b2,b3"
   ]
  },
  {
   "cell_type": "code",
   "execution_count": 149,
   "metadata": {},
   "outputs": [],
   "source": [
    "w1 ,w2,w3,b1, b2, b3 = initialize_params(X_train)"
   ]
  },
  {
   "cell_type": "code",
   "execution_count": 150,
   "metadata": {},
   "outputs": [],
   "source": [
    "def sigmoid_act(x):\n",
    "    s = 1/(1+np.exp(-x))\n",
    "    return s"
   ]
  },
  {
   "cell_type": "code",
   "execution_count": 151,
   "metadata": {},
   "outputs": [],
   "source": [
    "def forward_path(x_train,w1,b1,w2,b2,w3,b3):\n",
    "    '''\n",
    "        first the forward propagation takes place\n",
    "        the weights and biases set randomly are multipled with the X_train of hidden layer \n",
    "        then activation function is applied to them\n",
    "        and the output of activation function is used as input to next layer\n",
    "    '''\n",
    "\n",
    "    #hidden layer 1\n",
    "    z1 = np.matmul(w1, x_train.T) + b1\n",
    "    A1 = sigmoid_act(z1) #output of hidden layer obtained by applying sigmoid activation function\n",
    "\n",
    "    #hidden layer 2\n",
    "    z2 = np.matmul(w2, A1) + b2\n",
    "    A2 = sigmoid_act(z2)\n",
    "    #output layer\n",
    "    z3 = np.matmul(w3, A2) + b3\n",
    "    A3 = z3     #linear activation function at output layer \n",
    "\n",
    "    return A3, A2, A1"
   ]
  },
  {
   "cell_type": "code",
   "execution_count": 152,
   "metadata": {},
   "outputs": [],
   "source": [
    "# print(forward_path(X_train, w1,b1,w2,b2,w3,b3))\n"
   ]
  },
  {
   "cell_type": "code",
   "execution_count": 153,
   "metadata": {},
   "outputs": [],
   "source": [
    "def compute_cost(y_pred, y_train):\n",
    "    cost = np.mean((y_pred - y_train)**2)\n",
    "    return cost"
   ]
  },
  {
   "cell_type": "code",
   "execution_count": 154,
   "metadata": {},
   "outputs": [],
   "source": [
    "# print(dz2.shape)"
   ]
  },
  {
   "cell_type": "code",
   "execution_count": 155,
   "metadata": {},
   "outputs": [],
   "source": [
    "def backward_path(A3,A2,A1,w3,Y_train, X_train):\n",
    "    \n",
    "    #backward propagations starts with modifying the weights and biases from the o/p layer\n",
    "    #output layer\n",
    "    dA3 = (2*(A3 - Y_train))/len(Y_train) #gradient of loss w.r.t A2\n",
    "    dz3 = dA3                             #gradient of loss w.r.t z2\n",
    "    dw3 = np.matmul(dz3, A2.T)            #gradient of loss w.r.t w2\n",
    "    db3 = dz3.sum(axis = 1)               #gradient of loss w.r.t b2\n",
    "\n",
    "    #hidden layer\n",
    "    dA2 = (2*(A2 - Y_train))/len(Y_train) #gradient of loss w.r.t A2\n",
    "    dz2 = dA2                             #gradient of loss w.r.t z2\n",
    "    dw2 = np.matmul(dz2, A1.T)            #gradient of loss w.r.t w2\n",
    "    db2 = dz2.sum(axis = 1)               #gradient of loss w.r.t b2\n",
    "\n",
    "    #first layer\n",
    "    dA1 = np.matmul(w2.T,dz2)\n",
    "    dz1 = np.multiply(dA1, A1 * (1-A1))\n",
    "    dw1 = np.matmul(dz1,  X_train)\n",
    "    db1 = dz1.sum(axis = 1)\n",
    "    return dw3, dw2, dw1, db3, db2, db1"
   ]
  },
  {
   "cell_type": "code",
   "execution_count": 156,
   "metadata": {},
   "outputs": [],
   "source": [
    "def update_parameter(w, b, dw,db, learning_rate):\n",
    "    w = w - learning_rate * dw\n",
    "    db = np.reshape(db, b.shape)\n",
    "    b = b - learning_rate * db\n",
    "    return w, b"
   ]
  },
  {
   "cell_type": "markdown",
   "metadata": {},
   "source": [
    "Training using batch gradient descent(BGD)"
   ]
  },
  {
   "cell_type": "code",
   "execution_count": 157,
   "metadata": {},
   "outputs": [],
   "source": [
    "num_iters = 500\n",
    "learning_rate = 0.001\n",
    "his1 = []\n",
    "\n",
    "w1,w2,w3,b1, b2, b3 = initialize_params(X_train)\n",
    "for i in range(num_iters):\n",
    "    A3,A2, A1 = forward_path(X_train, w1, b1, w2, b2, w3,b3)\n",
    "    y_pred = A3\n",
    "    cost = compute_cost(y_pred, y_train)\n",
    "    dw3, dw2, dw1, db3, db2, db1 = backward_path(A3, A2, A1,w3,y_train, X_train)\n",
    "    w3, b3 = update_parameter(w3,b3,dw3,db3,learning_rate)\n",
    "    w2, b2 = update_parameter(w2,b2,dw2,db2,learning_rate)\n",
    "    w1, b1 = update_parameter(w1,b1,dw1,db1,learning_rate)\n",
    "\n",
    "    his1.append(cost)"
   ]
  },
  {
   "cell_type": "code",
   "execution_count": 158,
   "metadata": {},
   "outputs": [
    {
     "data": {
      "text/plain": [
       "[<matplotlib.lines.Line2D at 0x2c8bfc3d660>]"
      ]
     },
     "execution_count": 158,
     "metadata": {},
     "output_type": "execute_result"
    },
    {
     "data": {
      "image/png": "[encoded data removed]",
      "text/plain": [
       "<Figure size 640x480 with 1 Axes>"
      ]
     },
     "metadata": {},
     "output_type": "display_data"
    }
   ],
   "source": [
    "plt.plot(his1)"
   ]
  },
  {
   "cell_type": "code",
   "execution_count": 159,
   "metadata": {},
   "outputs": [
    {
     "name": "stdout",
     "output_type": "stream",
     "text": [
      "[[-0.70264774  1.54711942  1.19884851]\n",
      " [ 0.35337125  1.55610794  0.94194395]\n",
      " [ 0.93033422 -0.60134476  1.51863011]\n",
      " [-1.42685272  0.23129862  0.96154703]\n",
      " [ 0.39584937  0.08620779  0.2129171 ]]\n",
      "[[-1.33920512]\n",
      " [-0.08822567]\n",
      " [ 1.29018011]\n",
      " [-0.34346673]\n",
      " [-0.61153094]]\n"
     ]
    }
   ],
   "source": [
    "print(w1)\n",
    "print(b1)"
   ]
  },
  {
   "cell_type": "code",
   "execution_count": 160,
   "metadata": {},
   "outputs": [
    {
     "name": "stdout",
     "output_type": "stream",
     "text": [
      "[[ 0.1515657  -0.38012064  0.27543743 -0.92302287 -0.62626817]\n",
      " [ 0.03414574 -0.1460246  -0.70595916 -1.23829508  0.41262568]\n",
      " [-0.42827159 -0.38303099 -0.63771235 -0.0977448  -0.80580494]\n",
      " [ 0.55457591  0.18296327 -0.63646226  0.39973509 -0.60560657]\n",
      " [-0.78576435 -0.89410203  0.73706112 -1.13406517  0.44793543]]\n",
      "[[ 0.27138774]\n",
      " [ 0.4481471 ]\n",
      " [-0.23045676]\n",
      " [-1.06997898]\n",
      " [ 0.91513196]]\n"
     ]
    }
   ],
   "source": [
    "print(w2)\n",
    "print(b2)"
   ]
  },
  {
   "cell_type": "code",
   "execution_count": 161,
   "metadata": {},
   "outputs": [
    {
     "name": "stdout",
     "output_type": "stream",
     "text": [
      "[[-0.42844588 -0.63964582  2.25807622 -1.15513818 -0.14797455]]\n",
      "[[0.23060833]]\n"
     ]
    }
   ],
   "source": [
    "print(w3)\n",
    "print(b3)"
   ]
  },
  {
   "cell_type": "markdown",
   "metadata": {},
   "source": [
    "MLP model prediction on test data"
   ]
  },
  {
   "cell_type": "code",
   "execution_count": 162,
   "metadata": {},
   "outputs": [],
   "source": [
    "def pred(w1,w2,w3,b1,b2,b3,x_test):\n",
    "    A3, A2, A1 = forward_path(x_test, w1,b1,w2,b2,w3,b3)\n",
    "    return A3"
   ]
  },
  {
   "cell_type": "code",
   "execution_count": 163,
   "metadata": {},
   "outputs": [],
   "source": [
    "y_pred = pred(w1,w2,w3,b1,b2,b3,X_test)"
   ]
  },
  {
   "cell_type": "code",
   "execution_count": 164,
   "metadata": {},
   "outputs": [
    {
     "name": "stdout",
     "output_type": "stream",
     "text": [
      "[-0.3026246  -1.17320899  0.94602247  0.74115484  0.55874952 -2.43931323\n",
      " -0.36552389 -0.01753384  1.77662724 -0.21879755]\n",
      "(10,)\n"
     ]
    }
   ],
   "source": [
    "print(y_test)\n",
    "print(y_test.shape)"
   ]
  },
  {
   "cell_type": "code",
   "execution_count": 165,
   "metadata": {},
   "outputs": [
    {
     "name": "stdout",
     "output_type": "stream",
     "text": [
      "[[ 0.07413049]\n",
      " [ 0.12299887]\n",
      " [-0.09613287]\n",
      " [-0.07783684]\n",
      " [-0.08839228]\n",
      " [ 0.16139314]\n",
      " [ 0.09475864]\n",
      " [-0.12959143]\n",
      " [-0.14136605]\n",
      " [-0.03047665]]\n",
      "(10, 1)\n"
     ]
    }
   ],
   "source": [
    "y_pred = np.reshape(y_pred, (len(X_test), 1))\n",
    "print(y_pred)\n",
    "print(y_pred.shape)"
   ]
  },
  {
   "cell_type": "markdown",
   "metadata": {},
   "source": [
    "Accuracy "
   ]
  },
  {
   "cell_type": "code",
   "execution_count": 166,
   "metadata": {},
   "outputs": [
    {
     "name": "stdout",
     "output_type": "stream",
     "text": [
      "MAE : 0.9460612470072343\n",
      "RMSE : 1.2124347580602284\n"
     ]
    }
   ],
   "source": [
    "from sklearn.metrics import r2_score, mean_squared_error, mean_absolute_error\n",
    "from math import sqrt\n",
    "print(\"MAE :\", mean_absolute_error(y_test, y_pred))\n",
    "print(\"RMSE :\", np.sqrt(mean_squared_error(y_test, y_pred)))"
   ]
  },
  {
   "cell_type": "code",
   "execution_count": 167,
   "metadata": {},
   "outputs": [
    {
     "data": {
      "text/html": [
       "<div>\n",
       "<style scoped>\n",
       "    .dataframe tbody tr th:only-of-type {\n",
       "        vertical-align: middle;\n",
       "    }\n",
       "\n",
       "    .dataframe tbody tr th {\n",
       "        vertical-align: top;\n",
       "    }\n",
       "\n",
       "    .dataframe thead th {\n",
       "        text-align: right;\n",
       "    }\n",
       "</style>\n",
       "<table border=\"1\" class=\"dataframe\">\n",
       "  <thead>\n",
       "    <tr style=\"text-align: right;\">\n",
       "      <th></th>\n",
       "      <th>Original profit</th>\n",
       "      <th>Predict Profit</th>\n",
       "    </tr>\n",
       "  </thead>\n",
       "  <tbody>\n",
       "    <tr>\n",
       "      <th>0</th>\n",
       "      <td>-0.302625</td>\n",
       "      <td>0.074130</td>\n",
       "    </tr>\n",
       "    <tr>\n",
       "      <th>1</th>\n",
       "      <td>-1.173209</td>\n",
       "      <td>0.122999</td>\n",
       "    </tr>\n",
       "    <tr>\n",
       "      <th>2</th>\n",
       "      <td>0.946022</td>\n",
       "      <td>-0.096133</td>\n",
       "    </tr>\n",
       "    <tr>\n",
       "      <th>3</th>\n",
       "      <td>0.741155</td>\n",
       "      <td>-0.077837</td>\n",
       "    </tr>\n",
       "    <tr>\n",
       "      <th>4</th>\n",
       "      <td>0.558750</td>\n",
       "      <td>-0.088392</td>\n",
       "    </tr>\n",
       "    <tr>\n",
       "      <th>5</th>\n",
       "      <td>-2.439313</td>\n",
       "      <td>0.161393</td>\n",
       "    </tr>\n",
       "    <tr>\n",
       "      <th>6</th>\n",
       "      <td>-0.365524</td>\n",
       "      <td>0.094759</td>\n",
       "    </tr>\n",
       "    <tr>\n",
       "      <th>7</th>\n",
       "      <td>-0.017534</td>\n",
       "      <td>-0.129591</td>\n",
       "    </tr>\n",
       "    <tr>\n",
       "      <th>8</th>\n",
       "      <td>1.776627</td>\n",
       "      <td>-0.141366</td>\n",
       "    </tr>\n",
       "    <tr>\n",
       "      <th>9</th>\n",
       "      <td>-0.218798</td>\n",
       "      <td>-0.030477</td>\n",
       "    </tr>\n",
       "  </tbody>\n",
       "</table>\n",
       "</div>"
      ],
      "text/plain": [
       "   Original profit  Predict Profit\n",
       "0        -0.302625        0.074130\n",
       "1        -1.173209        0.122999\n",
       "2         0.946022       -0.096133\n",
       "3         0.741155       -0.077837\n",
       "4         0.558750       -0.088392\n",
       "5        -2.439313        0.161393\n",
       "6        -0.365524        0.094759\n",
       "7        -0.017534       -0.129591\n",
       "8         1.776627       -0.141366\n",
       "9        -0.218798       -0.030477"
      ]
     },
     "execution_count": 167,
     "metadata": {},
     "output_type": "execute_result"
    }
   ],
   "source": [
    "calculation = pd.DataFrame(np.c_[y_test, y_pred], columns=[\"Original profit\", \"Predict Profit\"])\n",
    "calculation"
   ]
  },
  {
   "cell_type": "markdown",
   "metadata": {},
   "source": [
    "Training using SGD"
   ]
  },
  {
   "cell_type": "code",
   "execution_count": 168,
   "metadata": {},
   "outputs": [],
   "source": [
    "# num_iters = 500\n",
    "# learning_rate = 0.001\n",
    "# his1 = []\n",
    "\n",
    "# w1,w2,w3,b1, b2,b3 = initialize_params(X_train)\n",
    "# for i in range(num_iters):\n",
    "#     cost = 0\n",
    "#     for j in range(len(X_train)):\n",
    "#         A3,A2, A1 = forward_path(X_train, w1, b1, w2, b2,w3, b3)\n",
    "#         y_pred = A3\n",
    "#         cost = compute_cost(y_pred, y_train)\n",
    "#         dw3,dw2, dw1,db3, db2, db1 = backward_path(A3,A2, A1,w3,y_train, X_train)\n",
    "#         w3, b3 = update_parameter(w3,b3,dw3,db3,learning_rate)\n",
    "#         w2, b2 = update_parameter(w2,b2,dw2,db2,learning_rate)\n",
    "#         w1, b1 = update_parameter(w1,b1,dw1,db1,learning_rate)\n",
    "\n",
    "#     his1.append(cost/len(X_train))"
   ]
  },
  {
   "cell_type": "code",
   "execution_count": 169,
   "metadata": {},
   "outputs": [],
   "source": [
    "# plt.plot(his1)"
   ]
  },
  {
   "cell_type": "code",
   "execution_count": null,
   "metadata": {},
   "outputs": [],
   "source": []
  }
 ],
 "metadata": {
  "kernelspec": {
   "display_name": "Python 3 (ipykernel)",
   "language": "python",
   "name": "python3"
  },
  "language_info": {
   "codemirror_mode": {
    "name": "ipython",
    "version": 3
   },
   "file_extension": ".py",
   "mimetype": "text/x-python",
   "name": "python",
   "nbconvert_exporter": "python",
   "pygments_lexer": "ipython3",
   "version": "3.9.12"
  }
 },
 "nbformat": 4,
 "nbformat_minor": 2
}
